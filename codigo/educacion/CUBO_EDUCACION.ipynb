{
 "cells": [
  {
   "cell_type": "code",
   "execution_count": 30,
   "metadata": {},
   "outputs": [],
   "source": [
    "import pandas as pd"
   ]
  },
  {
   "cell_type": "code",
   "execution_count": 31,
   "metadata": {},
   "outputs": [
    {
     "name": "stderr",
     "output_type": "stream",
     "text": [
      "C:\\Users\\Asus\\AppData\\Local\\Temp\\ipykernel_11512\\2229726427.py:1: DtypeWarning: Columns (12) have mixed types. Specify dtype option on import or set low_memory=False.\n",
      "  secop2023 = pd.read_csv('../../muestras de datos/bronce/SECOP_2023.csv', sep=';')\n"
     ]
    },
    {
     "data": {
      "text/html": [
       "<div>\n",
       "<style scoped>\n",
       "    .dataframe tbody tr th:only-of-type {\n",
       "        vertical-align: middle;\n",
       "    }\n",
       "\n",
       "    .dataframe tbody tr th {\n",
       "        vertical-align: top;\n",
       "    }\n",
       "\n",
       "    .dataframe thead th {\n",
       "        text-align: right;\n",
       "    }\n",
       "</style>\n",
       "<table border=\"1\" class=\"dataframe\">\n",
       "  <thead>\n",
       "    <tr style=\"text-align: right;\">\n",
       "      <th></th>\n",
       "      <th>ID_ENTIDAD</th>\n",
       "      <th>index</th>\n",
       "      <th>ID_Contrato</th>\n",
       "      <th>ID_Proceso</th>\n",
       "      <th>Modalidad</th>\n",
       "      <th>Estado</th>\n",
       "      <th>Descripcion_proceso</th>\n",
       "      <th>Objeto_Contrato</th>\n",
       "      <th>Tipo_de_contrato</th>\n",
       "      <th>Fecha_firma</th>\n",
       "      <th>...</th>\n",
       "      <th>Fecha_fin_contrato</th>\n",
       "      <th>Link</th>\n",
       "      <th>Fuente</th>\n",
       "      <th>Año_firma</th>\n",
       "      <th>Modalidad Estandar</th>\n",
       "      <th>Grupo Modalidad</th>\n",
       "      <th>SEGMENTO_UNSPSC</th>\n",
       "      <th>FAMILIA_UNSPSC</th>\n",
       "      <th>CLASE_UNSPSC</th>\n",
       "      <th>PRODUCTO_UNSPSC</th>\n",
       "    </tr>\n",
       "  </thead>\n",
       "  <tbody>\n",
       "    <tr>\n",
       "      <th>0</th>\n",
       "      <td>0</td>\n",
       "      <td>NaN</td>\n",
       "      <td>NaN</td>\n",
       "      <td>NaN</td>\n",
       "      <td>NaN</td>\n",
       "      <td>NaN</td>\n",
       "      <td>NaN</td>\n",
       "      <td>NaN</td>\n",
       "      <td>NaN</td>\n",
       "      <td>NaN</td>\n",
       "      <td>...</td>\n",
       "      <td>NaN</td>\n",
       "      <td>NaN</td>\n",
       "      <td>NaN</td>\n",
       "      <td>NaN</td>\n",
       "      <td>Otras Modalidades de Contratación</td>\n",
       "      <td>Otra Modalidad</td>\n",
       "      <td>NaN</td>\n",
       "      <td>NaN</td>\n",
       "      <td>NaN</td>\n",
       "      <td>NaN</td>\n",
       "    </tr>\n",
       "    <tr>\n",
       "      <th>1</th>\n",
       "      <td>0</td>\n",
       "      <td>NaN</td>\n",
       "      <td>NaN</td>\n",
       "      <td>NaN</td>\n",
       "      <td>NaN</td>\n",
       "      <td>NaN</td>\n",
       "      <td>NaN</td>\n",
       "      <td>NaN</td>\n",
       "      <td>NaN</td>\n",
       "      <td>NaN</td>\n",
       "      <td>...</td>\n",
       "      <td>NaN</td>\n",
       "      <td>NaN</td>\n",
       "      <td>NaN</td>\n",
       "      <td>NaN</td>\n",
       "      <td>Otras Modalidades de Contratación</td>\n",
       "      <td>Otra Modalidad</td>\n",
       "      <td>NaN</td>\n",
       "      <td>NaN</td>\n",
       "      <td>NaN</td>\n",
       "      <td>NaN</td>\n",
       "    </tr>\n",
       "  </tbody>\n",
       "</table>\n",
       "<p>2 rows × 28 columns</p>\n",
       "</div>"
      ],
      "text/plain": [
       "   ID_ENTIDAD  index ID_Contrato ID_Proceso Modalidad Estado  \\\n",
       "0           0    NaN         NaN        NaN       NaN    NaN   \n",
       "1           0    NaN         NaN        NaN       NaN    NaN   \n",
       "\n",
       "  Descripcion_proceso Objeto_Contrato Tipo_de_contrato Fecha_firma  ...  \\\n",
       "0                 NaN             NaN              NaN         NaN  ...   \n",
       "1                 NaN             NaN              NaN         NaN  ...   \n",
       "\n",
       "   Fecha_fin_contrato Link Fuente Año_firma  \\\n",
       "0                 NaN  NaN    NaN       NaN   \n",
       "1                 NaN  NaN    NaN       NaN   \n",
       "\n",
       "                  Modalidad Estandar Grupo Modalidad SEGMENTO_UNSPSC  \\\n",
       "0  Otras Modalidades de Contratación  Otra Modalidad             NaN   \n",
       "1  Otras Modalidades de Contratación  Otra Modalidad             NaN   \n",
       "\n",
       "  FAMILIA_UNSPSC CLASE_UNSPSC PRODUCTO_UNSPSC  \n",
       "0            NaN          NaN             NaN  \n",
       "1            NaN          NaN             NaN  \n",
       "\n",
       "[2 rows x 28 columns]"
      ]
     },
     "execution_count": 31,
     "metadata": {},
     "output_type": "execute_result"
    }
   ],
   "source": [
    "secop2023 = pd.read_csv('../../muestras de datos/bronce/SECOP_2023.csv', sep=';')\n",
    "secop2023.head(2)"
   ]
  },
  {
   "cell_type": "code",
   "execution_count": 32,
   "metadata": {},
   "outputs": [
    {
     "data": {
      "text/html": [
       "<div>\n",
       "<style scoped>\n",
       "    .dataframe tbody tr th:only-of-type {\n",
       "        vertical-align: middle;\n",
       "    }\n",
       "\n",
       "    .dataframe tbody tr th {\n",
       "        vertical-align: top;\n",
       "    }\n",
       "\n",
       "    .dataframe thead th {\n",
       "        text-align: right;\n",
       "    }\n",
       "</style>\n",
       "<table border=\"1\" class=\"dataframe\">\n",
       "  <thead>\n",
       "    <tr style=\"text-align: right;\">\n",
       "      <th></th>\n",
       "      <th>NIT</th>\n",
       "      <th>Entidad</th>\n",
       "      <th>Categoría</th>\n",
       "    </tr>\n",
       "  </thead>\n",
       "  <tbody>\n",
       "    <tr>\n",
       "      <th>0</th>\n",
       "      <td>860.024.301-6</td>\n",
       "      <td>ICFES</td>\n",
       "      <td>Ministerio de educación</td>\n",
       "    </tr>\n",
       "    <tr>\n",
       "      <th>1</th>\n",
       "      <td>830.018.957-3</td>\n",
       "      <td>FODESEP</td>\n",
       "      <td>Ministerio de educación</td>\n",
       "    </tr>\n",
       "  </tbody>\n",
       "</table>\n",
       "</div>"
      ],
      "text/plain": [
       "             NIT  Entidad                Categoría\n",
       "0  860.024.301-6    ICFES  Ministerio de educación\n",
       "1  830.018.957-3  FODESEP  Ministerio de educación"
      ]
     },
     "execution_count": 32,
     "metadata": {},
     "output_type": "execute_result"
    }
   ],
   "source": [
    "nits = pd.read_excel('../../muestras de datos/auxiliar/criterios/educacion/Listado_NIT_Ent_Edu.xlsx')\n",
    "nits.head(2)"
   ]
  },
  {
   "cell_type": "code",
   "execution_count": 33,
   "metadata": {},
   "outputs": [
    {
     "data": {
      "text/html": [
       "<div>\n",
       "<style scoped>\n",
       "    .dataframe tbody tr th:only-of-type {\n",
       "        vertical-align: middle;\n",
       "    }\n",
       "\n",
       "    .dataframe tbody tr th {\n",
       "        vertical-align: top;\n",
       "    }\n",
       "\n",
       "    .dataframe thead th {\n",
       "        text-align: right;\n",
       "    }\n",
       "</style>\n",
       "<table border=\"1\" class=\"dataframe\">\n",
       "  <thead>\n",
       "    <tr style=\"text-align: right;\">\n",
       "      <th></th>\n",
       "      <th>NIT</th>\n",
       "      <th>Entidad</th>\n",
       "      <th>Categoría</th>\n",
       "    </tr>\n",
       "  </thead>\n",
       "  <tbody>\n",
       "    <tr>\n",
       "      <th>0</th>\n",
       "      <td>860024301</td>\n",
       "      <td>ICFES</td>\n",
       "      <td>Ministerio de educación</td>\n",
       "    </tr>\n",
       "    <tr>\n",
       "      <th>1</th>\n",
       "      <td>830018957</td>\n",
       "      <td>FODESEP</td>\n",
       "      <td>Ministerio de educación</td>\n",
       "    </tr>\n",
       "  </tbody>\n",
       "</table>\n",
       "</div>"
      ],
      "text/plain": [
       "         NIT  Entidad                Categoría\n",
       "0  860024301    ICFES  Ministerio de educación\n",
       "1  830018957  FODESEP  Ministerio de educación"
      ]
     },
     "execution_count": 33,
     "metadata": {},
     "output_type": "execute_result"
    }
   ],
   "source": [
    "# limpieza de nits\n",
    "nits['NIT'] = nits['NIT'].str.replace('.', '')\n",
    "nits['NIT'] = nits['NIT'].str.split('-').str[0]\n",
    "nits['NIT'] = nits['NIT'].str.split(':').str[0]\n",
    "nits = nits[~(nits['NIT'].isna())]\n",
    "nits.head(2)"
   ]
  },
  {
   "cell_type": "code",
   "execution_count": 34,
   "metadata": {},
   "outputs": [
    {
     "data": {
      "text/plain": [
       "(426, 9)"
      ]
     },
     "execution_count": 34,
     "metadata": {},
     "output_type": "execute_result"
    }
   ],
   "source": [
    "homologa_entidades = pd.read_excel('../../muestras de datos/auxiliar/homologacion de entidades.xlsx')\n",
    "homologa_entidades = homologa_entidades.drop_duplicates(subset=homologa_entidades.columns)\n",
    "homologa_entidades['NIT'] = homologa_entidades['NIT'].astype(str)\n",
    "# Cargue para determinar los id que se deberán tener en cuenta\n",
    "cruce_homologa_entidades = pd.merge(left=nits, right=homologa_entidades, how='left', on='NIT')\n",
    "cruce_homologa_entidades.shape"
   ]
  },
  {
   "cell_type": "code",
   "execution_count": 36,
   "metadata": {},
   "outputs": [
    {
     "data": {
      "text/plain": [
       "(439, 7)"
      ]
     },
     "execution_count": 36,
     "metadata": {},
     "output_type": "execute_result"
    }
   ],
   "source": [
    "cruce_homologa_entidades = homologa_entidades[homologa_entidades['ID'].isin(cruce_homologa_entidades['ID'])]\n",
    "cruce_homologa_entidades.shape"
   ]
  },
  {
   "cell_type": "code",
   "execution_count": 37,
   "metadata": {},
   "outputs": [
    {
     "data": {
      "text/plain": [
       "Index(['ID', 'ID_SECOP', 'ENTIDAD', 'NIT', 'ORDEN', 'DEPARTAMENTO',\n",
       "       'MUNICIPIO'],\n",
       "      dtype='object')"
      ]
     },
     "execution_count": 37,
     "metadata": {},
     "output_type": "execute_result"
    }
   ],
   "source": [
    "cruce_homologa_entidades.columns"
   ]
  },
  {
   "cell_type": "code",
   "execution_count": 38,
   "metadata": {},
   "outputs": [
    {
     "data": {
      "text/plain": [
       "(30898, 28)"
      ]
     },
     "execution_count": 38,
     "metadata": {},
     "output_type": "execute_result"
    }
   ],
   "source": [
    "secop2023_filtrado = secop2023[secop2023['ID_ENTIDAD'].isin(cruce_homologa_entidades['ID'])] \n",
    "secop2023_filtrado = secop2023_filtrado[~(secop2023_filtrado['ID_Contrato'].isna())]\n",
    "secop2023_filtrado.shape"
   ]
  },
  {
   "cell_type": "code",
   "execution_count": 39,
   "metadata": {},
   "outputs": [
    {
     "data": {
      "text/plain": [
       "Fuente\n",
       "SECOP I     25342\n",
       "SECOP II     5556\n",
       "Name: count, dtype: int64"
      ]
     },
     "execution_count": 39,
     "metadata": {},
     "output_type": "execute_result"
    }
   ],
   "source": [
    "secop2023_filtrado['Fuente'].value_counts()"
   ]
  },
  {
   "cell_type": "code",
   "execution_count": 10,
   "metadata": {},
   "outputs": [],
   "source": [
    "# secop2023_filtrado.to_excel('../../muestras de datos/plata/educacion_2023.xlsx', index=False)"
   ]
  },
  {
   "cell_type": "code",
   "execution_count": 40,
   "metadata": {},
   "outputs": [
    {
     "name": "stderr",
     "output_type": "stream",
     "text": [
      "C:\\Users\\Asus\\AppData\\Local\\Temp\\ipykernel_11512\\815130178.py:1: DtypeWarning: Columns (1,5,13,15,16) have mixed types. Specify dtype option on import or set low_memory=False.\n",
      "  secop2023_bronce = pd.read_csv('../../../../OneDrive - Colombia Compra Eficiente/Preparacion_Datos_Abiertos/muestras de datos/procesados/bronce/SECOP_2023.csv', sep=';')\n"
     ]
    },
    {
     "data": {
      "text/plain": [
       "(1307189, 27)"
      ]
     },
     "execution_count": 40,
     "metadata": {},
     "output_type": "execute_result"
    }
   ],
   "source": [
    "secop2023_bronce = pd.read_csv('../../../../OneDrive - Colombia Compra Eficiente/Preparacion_Datos_Abiertos/muestras de datos/procesados/bronce/SECOP_2023.csv', sep=';')\n",
    "secop2023_bronce.shape"
   ]
  },
  {
   "cell_type": "code",
   "execution_count": 41,
   "metadata": {},
   "outputs": [
    {
     "name": "stderr",
     "output_type": "stream",
     "text": [
      "C:\\Users\\Asus\\AppData\\Local\\Temp\\ipykernel_11512\\2000933314.py:2: SettingWithCopyWarning: \n",
      "A value is trying to be set on a copy of a slice from a DataFrame.\n",
      "Try using .loc[row_indexer,col_indexer] = value instead\n",
      "\n",
      "See the caveats in the documentation: https://pandas.pydata.org/pandas-docs/stable/user_guide/indexing.html#returning-a-view-versus-a-copy\n",
      "  columnas_entidad['ID_Contrato'] = columnas_entidad['ID_Contrato'].astype(str)\n"
     ]
    }
   ],
   "source": [
    "columnas_entidad = secop2023_bronce[['ID_Contrato','ID_Entidad', 'Nombre_Entidad', 'NIT_Entidad', 'Orden_Entidad']]\n",
    "columnas_entidad['ID_Contrato'] = columnas_entidad['ID_Contrato'].astype(str)"
   ]
  },
  {
   "cell_type": "code",
   "execution_count": 42,
   "metadata": {},
   "outputs": [
    {
     "data": {
      "text/plain": [
       "(30898, 33)"
      ]
     },
     "execution_count": 42,
     "metadata": {},
     "output_type": "execute_result"
    }
   ],
   "source": [
    "secop2023_filtrado2 = pd.merge(left=secop2023_filtrado, right=columnas_entidad, how='inner', on='ID_Contrato', indicator=True)\n",
    "secop2023_filtrado2 = secop2023_filtrado2.drop_duplicates(subset=secop2023_filtrado.columns)\n",
    "secop2023_filtrado2.shape"
   ]
  },
  {
   "cell_type": "code",
   "execution_count": 44,
   "metadata": {},
   "outputs": [],
   "source": [
    "import re\n",
    "import string\n",
    "import nltk\n",
    "from nltk.corpus import stopwords\n",
    "from nltk.tokenize import word_tokenize\n",
    "\n",
    "stop_words = set(stopwords.words(\"spanish\"))\n",
    "\n",
    "# Función Limpieza de Texto\n",
    "def remove_extra_punct(text):\n",
    "    \n",
    "    text = text.lower()\n",
    "    text = re.sub(r'(?::|;|=)(?:-)?(?:\\)|\\(|D|P)', \"\", text)\n",
    "    text = re.sub(r'[\\\\!\\\\\"\\\\#\\\\$\\\\%\\\\&\\\\\\'\\\\(\\\\)\\\\*\\\\+\\\\,\\\\-\\\\.\\\\/\\\\:\\\\;\\\\<\\\\=\\\\>\\\\?\\\\@\\\\[\\\\\\\\\\\\]\\\\^_\\\\`\\\\{\\\\|\\\\}\\\\~]', \"\", text)\n",
    "    text = re.sub(r'\\#\\.', '', text)\n",
    "    text = re.sub(r'\\n', ' ', text)\n",
    "    text = re.sub(r'  ', ' ', text)\n",
    "    text = re.sub(r'´', '',text)\n",
    "    text = re.sub(r',', '',text)\n",
    "    text = re.sub(r'\\-', '', text)\n",
    "    text = re.sub(r'á', 'a', text)\n",
    "    text = re.sub(r'é', 'e', text)\n",
    "    text = re.sub(r'í', 'i', text)\n",
    "    text = re.sub(r'ó', 'o', text)\n",
    "    text = re.sub(r'ú', 'u', text)\n",
    "    text = re.sub(r'ò', 'o', text)\n",
    "    text = re.sub(r'à', 'a', text)\n",
    "    text = re.sub(r'è', 'e', text)\n",
    "    text = re.sub(r'ì', 'i', text)\n",
    "    text = re.sub(r'ù', 'u', text)\n",
    "    text = re.sub(\"\\d+\", ' ', text)\n",
    "    text = re.sub(\"\\\\s+\", ' ', text)\n",
    "    \n",
    "    tokens = word_tokenize(text)\n",
    "    tokens = [w for w in tokens if not w.lower() in stop_words]\n",
    "    tokens = \" \".join(tokens)\n",
    "    \n",
    "    return tokens\n",
    "\n",
    "secop2023_filtrado2['Nombre_Entidad'] = secop2023_filtrado2['Nombre_Entidad'].apply(remove_extra_punct)\n",
    "secop2023_filtrado2 = secop2023_filtrado2.drop(columns='_merge')"
   ]
  },
  {
   "cell_type": "code",
   "execution_count": 45,
   "metadata": {},
   "outputs": [
    {
     "name": "stdout",
     "output_type": "stream",
     "text": [
      "(31003, 36)\n"
     ]
    },
    {
     "data": {
      "text/plain": [
       "_merge\n",
       "both          30757\n",
       "left_only       246\n",
       "right_only        0\n",
       "Name: count, dtype: int64"
      ]
     },
     "execution_count": 45,
     "metadata": {},
     "output_type": "execute_result"
    }
   ],
   "source": [
    "secop2023_filtrado3 = pd.merge(left=secop2023_filtrado2, right=homologa_entidades[['ENTIDAD', 'DEPARTAMENTO', 'MUNICIPIO']], how='left',left_on='Nombre_Entidad', right_on='ENTIDAD', indicator=True)\n",
    "print(secop2023_filtrado3.shape)\n",
    "secop2023_filtrado3['_merge'].value_counts()"
   ]
  },
  {
   "cell_type": "code",
   "execution_count": 47,
   "metadata": {},
   "outputs": [],
   "source": [
    "secop2023_filtrado3 = secop2023_filtrado3.drop(columns='index')\n",
    "secop2023_filtrado3.to_excel('../../muestras de datos/plata/educacion_secopi_secopii.xlsx', index=False)"
   ]
  },
  {
   "cell_type": "markdown",
   "metadata": {},
   "source": [
    "TVEC"
   ]
  },
  {
   "cell_type": "code",
   "execution_count": 4,
   "metadata": {},
   "outputs": [
    {
     "name": "stderr",
     "output_type": "stream",
     "text": [
      "C:\\Users\\Asus\\AppData\\Local\\Temp\\ipykernel_11512\\3151868813.py:1: DtypeWarning: Columns (1) have mixed types. Specify dtype option on import or set low_memory=False.\n",
      "  tvec = pd.read_csv('../../muestras de datos/bronce/TVEC2023_DA.csv')\n"
     ]
    },
    {
     "data": {
      "text/html": [
       "<div>\n",
       "<style scoped>\n",
       "    .dataframe tbody tr th:only-of-type {\n",
       "        vertical-align: middle;\n",
       "    }\n",
       "\n",
       "    .dataframe tbody tr th {\n",
       "        vertical-align: top;\n",
       "    }\n",
       "\n",
       "    .dataframe thead th {\n",
       "        text-align: right;\n",
       "    }\n",
       "</style>\n",
       "<table border=\"1\" class=\"dataframe\">\n",
       "  <thead>\n",
       "    <tr style=\"text-align: right;\">\n",
       "      <th></th>\n",
       "      <th>Año</th>\n",
       "      <th>Identificador de la Orden</th>\n",
       "      <th>Agregacion</th>\n",
       "      <th>Rama de la Entidad</th>\n",
       "      <th>Sector de la Entidad</th>\n",
       "      <th>Entidad</th>\n",
       "      <th>Orden de la Entidad</th>\n",
       "      <th>NIT Entidad</th>\n",
       "      <th>Solicitante</th>\n",
       "      <th>Fecha</th>\n",
       "      <th>Proveedor</th>\n",
       "      <th>Estado</th>\n",
       "      <th>Solicitud</th>\n",
       "      <th>Items</th>\n",
       "      <th>Total</th>\n",
       "      <th>Ciudad</th>\n",
       "      <th>Entidad Obigada</th>\n",
       "      <th>EsPostconflicto</th>\n",
       "      <th>NIT proveedor</th>\n",
       "      <th>Actividad Economica Proveedor</th>\n",
       "    </tr>\n",
       "  </thead>\n",
       "  <tbody>\n",
       "    <tr>\n",
       "      <th>0</th>\n",
       "      <td>2023</td>\n",
       "      <td>104914</td>\n",
       "      <td>Combustible Nacional</td>\n",
       "      <td>No Definido</td>\n",
       "      <td>No Definido</td>\n",
       "      <td>No Definido</td>\n",
       "      <td>No Definido</td>\n",
       "      <td>NaN</td>\n",
       "      <td>Juan Luna Toro</td>\n",
       "      <td>02/17/2023 12:00:00 AM</td>\n",
       "      <td>Sodexo SAS</td>\n",
       "      <td>Emitida</td>\n",
       "      <td>157390.0</td>\n",
       "      <td>Combustible Categora C</td>\n",
       "      <td>3183000.0</td>\n",
       "      <td>Cali</td>\n",
       "      <td>No Definido</td>\n",
       "      <td>No Definido</td>\n",
       "      <td>800219876</td>\n",
       "      <td>8299</td>\n",
       "    </tr>\n",
       "    <tr>\n",
       "      <th>1</th>\n",
       "      <td>2023</td>\n",
       "      <td>104914</td>\n",
       "      <td>Combustible Nacional</td>\n",
       "      <td>No Definido</td>\n",
       "      <td>No Definido</td>\n",
       "      <td>No Definido</td>\n",
       "      <td>No Definido</td>\n",
       "      <td>NaN</td>\n",
       "      <td>Juan Luna Toro</td>\n",
       "      <td>02/17/2023 12:00:00 AM</td>\n",
       "      <td>Sodexo SAS</td>\n",
       "      <td>Emitida</td>\n",
       "      <td>157390.0</td>\n",
       "      <td>Combustible Categora C</td>\n",
       "      <td>3183000.0</td>\n",
       "      <td>Cali</td>\n",
       "      <td>No Definido</td>\n",
       "      <td>No Definido</td>\n",
       "      <td>800219876</td>\n",
       "      <td>8299</td>\n",
       "    </tr>\n",
       "  </tbody>\n",
       "</table>\n",
       "</div>"
      ],
      "text/plain": [
       "    Año Identificador de la Orden            Agregacion Rama de la Entidad  \\\n",
       "0  2023                    104914  Combustible Nacional        No Definido   \n",
       "1  2023                    104914  Combustible Nacional        No Definido   \n",
       "\n",
       "  Sector de la Entidad      Entidad Orden de la Entidad  NIT Entidad  \\\n",
       "0          No Definido  No Definido         No Definido          NaN   \n",
       "1          No Definido  No Definido         No Definido          NaN   \n",
       "\n",
       "      Solicitante                   Fecha   Proveedor   Estado  Solicitud  \\\n",
       "0  Juan Luna Toro  02/17/2023 12:00:00 AM  Sodexo SAS  Emitida   157390.0   \n",
       "1  Juan Luna Toro  02/17/2023 12:00:00 AM  Sodexo SAS  Emitida   157390.0   \n",
       "\n",
       "                    Items      Total Ciudad Entidad Obigada EsPostconflicto  \\\n",
       "0  Combustible Categora C  3183000.0   Cali     No Definido     No Definido   \n",
       "1  Combustible Categora C  3183000.0   Cali     No Definido     No Definido   \n",
       "\n",
       "  NIT proveedor Actividad Economica Proveedor  \n",
       "0     800219876                          8299  \n",
       "1     800219876                          8299  "
      ]
     },
     "execution_count": 4,
     "metadata": {},
     "output_type": "execute_result"
    }
   ],
   "source": [
    "tvec = pd.read_csv('../../muestras de datos/bronce/TVEC2023_DA.csv')\n",
    "tvec.head(2)"
   ]
  },
  {
   "cell_type": "code",
   "execution_count": 8,
   "metadata": {},
   "outputs": [
    {
     "data": {
      "text/html": [
       "<div>\n",
       "<style scoped>\n",
       "    .dataframe tbody tr th:only-of-type {\n",
       "        vertical-align: middle;\n",
       "    }\n",
       "\n",
       "    .dataframe tbody tr th {\n",
       "        vertical-align: top;\n",
       "    }\n",
       "\n",
       "    .dataframe thead th {\n",
       "        text-align: right;\n",
       "    }\n",
       "</style>\n",
       "<table border=\"1\" class=\"dataframe\">\n",
       "  <thead>\n",
       "    <tr style=\"text-align: right;\">\n",
       "      <th></th>\n",
       "      <th>NIT</th>\n",
       "      <th>Entidad</th>\n",
       "      <th>Categoría</th>\n",
       "      <th>ID</th>\n",
       "      <th>ID_SECOP</th>\n",
       "      <th>ENTIDAD</th>\n",
       "      <th>ORDEN</th>\n",
       "      <th>DEPARTAMENTO</th>\n",
       "      <th>MUNICIPIO</th>\n",
       "    </tr>\n",
       "  </thead>\n",
       "  <tbody>\n",
       "    <tr>\n",
       "      <th>0</th>\n",
       "      <td>860024301</td>\n",
       "      <td>ICFES</td>\n",
       "      <td>Ministerio de educación</td>\n",
       "      <td>1935.0</td>\n",
       "      <td>122002002.0</td>\n",
       "      <td>instituto colombiano fomento educacion superio...</td>\n",
       "      <td>NACIONAL</td>\n",
       "      <td>Bogotá D.C.</td>\n",
       "      <td>Bogotá D.C.</td>\n",
       "    </tr>\n",
       "    <tr>\n",
       "      <th>1</th>\n",
       "      <td>860024301</td>\n",
       "      <td>ICFES</td>\n",
       "      <td>Ministerio de educación</td>\n",
       "      <td>1935.0</td>\n",
       "      <td>702412826.0</td>\n",
       "      <td>instituto colombiano evaluacion educacion icfes</td>\n",
       "      <td>Nacional</td>\n",
       "      <td>Distrito Capital de Bogotá</td>\n",
       "      <td>No Definido</td>\n",
       "    </tr>\n",
       "    <tr>\n",
       "      <th>2</th>\n",
       "      <td>830018957</td>\n",
       "      <td>FODESEP</td>\n",
       "      <td>Ministerio de educación</td>\n",
       "      <td>NaN</td>\n",
       "      <td>NaN</td>\n",
       "      <td>NaN</td>\n",
       "      <td>NaN</td>\n",
       "      <td>NaN</td>\n",
       "      <td>NaN</td>\n",
       "    </tr>\n",
       "    <tr>\n",
       "      <th>3</th>\n",
       "      <td>899999336</td>\n",
       "      <td>AMAZONAS</td>\n",
       "      <td>Secretarías de educación</td>\n",
       "      <td>111.0</td>\n",
       "      <td>291000001.0</td>\n",
       "      <td>amazonas gobernacion</td>\n",
       "      <td>TERRITORIAL</td>\n",
       "      <td>Amazonas</td>\n",
       "      <td>Leticia</td>\n",
       "    </tr>\n",
       "    <tr>\n",
       "      <th>4</th>\n",
       "      <td>890900286</td>\n",
       "      <td>ANTIOQUIA</td>\n",
       "      <td>Secretarías de educación</td>\n",
       "      <td>264.0</td>\n",
       "      <td>205000001.0</td>\n",
       "      <td>antioquia gobernacion</td>\n",
       "      <td>TERRITORIAL</td>\n",
       "      <td>Antioquia</td>\n",
       "      <td>Medellín</td>\n",
       "    </tr>\n",
       "  </tbody>\n",
       "</table>\n",
       "</div>"
      ],
      "text/plain": [
       "         NIT    Entidad                 Categoría      ID     ID_SECOP  \\\n",
       "0  860024301      ICFES   Ministerio de educación  1935.0  122002002.0   \n",
       "1  860024301      ICFES   Ministerio de educación  1935.0  702412826.0   \n",
       "2  830018957    FODESEP   Ministerio de educación     NaN          NaN   \n",
       "3  899999336   AMAZONAS  Secretarías de educación   111.0  291000001.0   \n",
       "4  890900286  ANTIOQUIA  Secretarías de educación   264.0  205000001.0   \n",
       "\n",
       "                                             ENTIDAD        ORDEN  \\\n",
       "0  instituto colombiano fomento educacion superio...     NACIONAL   \n",
       "1    instituto colombiano evaluacion educacion icfes     Nacional   \n",
       "2                                                NaN          NaN   \n",
       "3                               amazonas gobernacion  TERRITORIAL   \n",
       "4                              antioquia gobernacion  TERRITORIAL   \n",
       "\n",
       "                 DEPARTAMENTO    MUNICIPIO  \n",
       "0                 Bogotá D.C.  Bogotá D.C.  \n",
       "1  Distrito Capital de Bogotá  No Definido  \n",
       "2                         NaN          NaN  \n",
       "3                    Amazonas      Leticia  \n",
       "4                   Antioquia     Medellín  "
      ]
     },
     "execution_count": 8,
     "metadata": {},
     "output_type": "execute_result"
    }
   ],
   "source": [
    "cruce_homologa_entidades.head()"
   ]
  },
  {
   "cell_type": "code",
   "execution_count": 9,
   "metadata": {},
   "outputs": [
    {
     "data": {
      "text/plain": [
       "145"
      ]
     },
     "execution_count": 9,
     "metadata": {},
     "output_type": "execute_result"
    }
   ],
   "source": [
    "len(cruce_homologa_entidades['NIT'].unique())"
   ]
  },
  {
   "cell_type": "code",
   "execution_count": 11,
   "metadata": {},
   "outputs": [
    {
     "name": "stdout",
     "output_type": "stream",
     "text": [
      "(439, 7)\n"
     ]
    },
    {
     "data": {
      "text/html": [
       "<div>\n",
       "<style scoped>\n",
       "    .dataframe tbody tr th:only-of-type {\n",
       "        vertical-align: middle;\n",
       "    }\n",
       "\n",
       "    .dataframe tbody tr th {\n",
       "        vertical-align: top;\n",
       "    }\n",
       "\n",
       "    .dataframe thead th {\n",
       "        text-align: right;\n",
       "    }\n",
       "</style>\n",
       "<table border=\"1\" class=\"dataframe\">\n",
       "  <thead>\n",
       "    <tr style=\"text-align: right;\">\n",
       "      <th></th>\n",
       "      <th>ID</th>\n",
       "      <th>ID_SECOP</th>\n",
       "      <th>ENTIDAD</th>\n",
       "      <th>NIT</th>\n",
       "      <th>ORDEN</th>\n",
       "      <th>DEPARTAMENTO</th>\n",
       "      <th>MUNICIPIO</th>\n",
       "    </tr>\n",
       "  </thead>\n",
       "  <tbody>\n",
       "    <tr>\n",
       "      <th>5</th>\n",
       "      <td>2</td>\n",
       "      <td>205000052</td>\n",
       "      <td>antioquia universidad antioquia</td>\n",
       "      <td>890980040</td>\n",
       "      <td>TERRITORIAL</td>\n",
       "      <td>Antioquia</td>\n",
       "      <td>Medellín</td>\n",
       "    </tr>\n",
       "    <tr>\n",
       "      <th>8</th>\n",
       "      <td>5</td>\n",
       "      <td>701427445</td>\n",
       "      <td>secretaria distrital gobierno</td>\n",
       "      <td>899999061</td>\n",
       "      <td>Territorial</td>\n",
       "      <td>No Definido</td>\n",
       "      <td>No Definido</td>\n",
       "    </tr>\n",
       "  </tbody>\n",
       "</table>\n",
       "</div>"
      ],
      "text/plain": [
       "   ID   ID_SECOP                          ENTIDAD        NIT        ORDEN  \\\n",
       "5   2  205000052  antioquia universidad antioquia  890980040  TERRITORIAL   \n",
       "8   5  701427445    secretaria distrital gobierno  899999061  Territorial   \n",
       "\n",
       "  DEPARTAMENTO    MUNICIPIO  \n",
       "5    Antioquia     Medellín  \n",
       "8  No Definido  No Definido  "
      ]
     },
     "execution_count": 11,
     "metadata": {},
     "output_type": "execute_result"
    }
   ],
   "source": [
    "nits_homologados = homologa_entidades[homologa_entidades['ID'].isin(cruce_homologa_entidades['ID'])]\n",
    "print(nits_homologados.shape)\n",
    "nits_homologados.head(2)"
   ]
  },
  {
   "cell_type": "code",
   "execution_count": 23,
   "metadata": {},
   "outputs": [
    {
     "name": "stderr",
     "output_type": "stream",
     "text": [
      "C:\\Users\\Asus\\AppData\\Local\\Temp\\ipykernel_11512\\3582684746.py:3: SettingWithCopyWarning: \n",
      "A value is trying to be set on a copy of a slice from a DataFrame.\n",
      "Try using .loc[row_indexer,col_indexer] = value instead\n",
      "\n",
      "See the caveats in the documentation: https://pandas.pydata.org/pandas-docs/stable/user_guide/indexing.html#returning-a-view-versus-a-copy\n",
      "  nits_homologados['NIT'] = nits_homologados['NIT'].astype(str)\n"
     ]
    },
    {
     "data": {
      "text/plain": [
       "(328185, 20)"
      ]
     },
     "execution_count": 23,
     "metadata": {},
     "output_type": "execute_result"
    }
   ],
   "source": [
    "tvec['NIT Entidad'] = tvec['NIT Entidad'].astype(str)\n",
    "tvec['NIT Entidad'] = tvec['NIT Entidad'].str.replace('.0','')\n",
    "nits_homologados['NIT'] = nits_homologados['NIT'].astype(str)\n",
    "tvec_filtrado = tvec[tvec['NIT Entidad'].str.contains('|'.join(nits_homologados['NIT'].tolist()))]\n",
    "tvec_filtrado.shape"
   ]
  },
  {
   "cell_type": "code",
   "execution_count": 24,
   "metadata": {},
   "outputs": [
    {
     "data": {
      "text/html": [
       "<div>\n",
       "<style scoped>\n",
       "    .dataframe tbody tr th:only-of-type {\n",
       "        vertical-align: middle;\n",
       "    }\n",
       "\n",
       "    .dataframe tbody tr th {\n",
       "        vertical-align: top;\n",
       "    }\n",
       "\n",
       "    .dataframe thead th {\n",
       "        text-align: right;\n",
       "    }\n",
       "</style>\n",
       "<table border=\"1\" class=\"dataframe\">\n",
       "  <thead>\n",
       "    <tr style=\"text-align: right;\">\n",
       "      <th></th>\n",
       "      <th>Año</th>\n",
       "      <th>Identificador de la Orden</th>\n",
       "      <th>Agregacion</th>\n",
       "      <th>Rama de la Entidad</th>\n",
       "      <th>Sector de la Entidad</th>\n",
       "      <th>Entidad</th>\n",
       "      <th>Orden de la Entidad</th>\n",
       "      <th>NIT Entidad</th>\n",
       "      <th>Solicitante</th>\n",
       "      <th>Fecha</th>\n",
       "      <th>Proveedor</th>\n",
       "      <th>Estado</th>\n",
       "      <th>Solicitud</th>\n",
       "      <th>Items</th>\n",
       "      <th>Total</th>\n",
       "      <th>Ciudad</th>\n",
       "      <th>Entidad Obigada</th>\n",
       "      <th>EsPostconflicto</th>\n",
       "      <th>NIT proveedor</th>\n",
       "      <th>Actividad Economica Proveedor</th>\n",
       "    </tr>\n",
       "  </thead>\n",
       "  <tbody>\n",
       "    <tr>\n",
       "      <th>12</th>\n",
       "      <td>2023</td>\n",
       "      <td>105565</td>\n",
       "      <td>Combustible Nacional</td>\n",
       "      <td>Ejecutiva</td>\n",
       "      <td>NaN</td>\n",
       "      <td>MUNICIPIO DE TULUA</td>\n",
       "      <td>Territorial</td>\n",
       "      <td>891900272</td>\n",
       "      <td>John Jairo Gomez Aguirre</td>\n",
       "      <td>02/28/2023 12:00:00 AM</td>\n",
       "      <td>Sodexo SAS</td>\n",
       "      <td>Emitida</td>\n",
       "      <td>180058.0</td>\n",
       "      <td>Combustible Categora C</td>\n",
       "      <td>70000000.0</td>\n",
       "      <td>TULUÁ - VALLE DEL CAUCA</td>\n",
       "      <td>No obligada</td>\n",
       "      <td>No Definido</td>\n",
       "      <td>800219876</td>\n",
       "      <td>8299</td>\n",
       "    </tr>\n",
       "    <tr>\n",
       "      <th>19</th>\n",
       "      <td>2023</td>\n",
       "      <td>108898</td>\n",
       "      <td>Material Pedaggico</td>\n",
       "      <td>Ejecutiva</td>\n",
       "      <td>Interior</td>\n",
       "      <td>CASANAREALCALDIA DE YOPAL</td>\n",
       "      <td>Territorial</td>\n",
       "      <td>891855017</td>\n",
       "      <td>Aydee  Soler Sanabria</td>\n",
       "      <td>05/04/2023 12:00:00 AM</td>\n",
       "      <td>OFIX SAS</td>\n",
       "      <td>Emitida</td>\n",
       "      <td>186205.0</td>\n",
       "      <td>mpg01PA1125 PAPELERA 125 PAPEL BOND mpg01IVA</td>\n",
       "      <td>1638340.0</td>\n",
       "      <td>YOPAL</td>\n",
       "      <td>NaN</td>\n",
       "      <td>No Definido</td>\n",
       "      <td>9001568261</td>\n",
       "      <td>4690</td>\n",
       "    </tr>\n",
       "    <tr>\n",
       "      <th>20</th>\n",
       "      <td>2023</td>\n",
       "      <td>108898</td>\n",
       "      <td>Material Pedaggico</td>\n",
       "      <td>Ejecutiva</td>\n",
       "      <td>Interior</td>\n",
       "      <td>CASANAREALCALDIA DE YOPAL</td>\n",
       "      <td>Territorial</td>\n",
       "      <td>891855017</td>\n",
       "      <td>Aydee  Soler Sanabria</td>\n",
       "      <td>05/04/2023 12:00:00 AM</td>\n",
       "      <td>OFIX SAS</td>\n",
       "      <td>Emitida</td>\n",
       "      <td>186205.0</td>\n",
       "      <td>mpg01PA1125 PAPELERA 125 PAPEL BOND mpg01IVA</td>\n",
       "      <td>1638340.0</td>\n",
       "      <td>YOPAL</td>\n",
       "      <td>NaN</td>\n",
       "      <td>No Definido</td>\n",
       "      <td>9001568261</td>\n",
       "      <td>4690</td>\n",
       "    </tr>\n",
       "    <tr>\n",
       "      <th>62</th>\n",
       "      <td>2023</td>\n",
       "      <td>103853</td>\n",
       "      <td>Combustible Nacional II</td>\n",
       "      <td>Ejecutiva</td>\n",
       "      <td>Funcion Publica</td>\n",
       "      <td>GOBERNACION DEL VICHADA</td>\n",
       "      <td>Territorial</td>\n",
       "      <td>800094067</td>\n",
       "      <td>Alvaro Arley Leon Florez</td>\n",
       "      <td>01/18/2023 12:00:00 AM</td>\n",
       "      <td>Sodexo SAS</td>\n",
       "      <td>Emitida</td>\n",
       "      <td>164478.0</td>\n",
       "      <td>Combustible Categora D</td>\n",
       "      <td>1.0</td>\n",
       "      <td>Puerto Carreño</td>\n",
       "      <td>No obligada</td>\n",
       "      <td>No Definido</td>\n",
       "      <td>800219876</td>\n",
       "      <td>8299</td>\n",
       "    </tr>\n",
       "    <tr>\n",
       "      <th>77</th>\n",
       "      <td>2023</td>\n",
       "      <td>119733</td>\n",
       "      <td>Grandes Superficies</td>\n",
       "      <td>Ejecutiva</td>\n",
       "      <td>Transporte</td>\n",
       "      <td>SERVICIO NACIONAL DE APRENDIZAJE SENA  CENTRO ...</td>\n",
       "      <td>Nacional</td>\n",
       "      <td>899999034</td>\n",
       "      <td>Luis  Prada Paez</td>\n",
       "      <td>11/14/2023 12:00:00 AM</td>\n",
       "      <td>CENCOSUD COLOMBIA SA</td>\n",
       "      <td>Cerrada</td>\n",
       "      <td>200660.0</td>\n",
       "      <td>GSF01KIT TALADRO PERCUTOR 12 PUL  ACCES BLACK ...</td>\n",
       "      <td>4997650.0</td>\n",
       "      <td>girardot</td>\n",
       "      <td>Obligada</td>\n",
       "      <td>No Definido</td>\n",
       "      <td>900155107</td>\n",
       "      <td>4711</td>\n",
       "    </tr>\n",
       "  </tbody>\n",
       "</table>\n",
       "</div>"
      ],
      "text/plain": [
       "     Año Identificador de la Orden               Agregacion  \\\n",
       "12  2023                    105565     Combustible Nacional   \n",
       "19  2023                    108898       Material Pedaggico   \n",
       "20  2023                    108898       Material Pedaggico   \n",
       "62  2023                    103853  Combustible Nacional II   \n",
       "77  2023                    119733      Grandes Superficies   \n",
       "\n",
       "   Rama de la Entidad Sector de la Entidad  \\\n",
       "12          Ejecutiva                  NaN   \n",
       "19          Ejecutiva             Interior   \n",
       "20          Ejecutiva             Interior   \n",
       "62          Ejecutiva      Funcion Publica   \n",
       "77          Ejecutiva           Transporte   \n",
       "\n",
       "                                              Entidad Orden de la Entidad  \\\n",
       "12                                 MUNICIPIO DE TULUA         Territorial   \n",
       "19                          CASANAREALCALDIA DE YOPAL         Territorial   \n",
       "20                          CASANAREALCALDIA DE YOPAL         Territorial   \n",
       "62                            GOBERNACION DEL VICHADA         Territorial   \n",
       "77  SERVICIO NACIONAL DE APRENDIZAJE SENA  CENTRO ...            Nacional   \n",
       "\n",
       "   NIT Entidad               Solicitante                   Fecha  \\\n",
       "12   891900272  John Jairo Gomez Aguirre  02/28/2023 12:00:00 AM   \n",
       "19   891855017     Aydee  Soler Sanabria  05/04/2023 12:00:00 AM   \n",
       "20   891855017     Aydee  Soler Sanabria  05/04/2023 12:00:00 AM   \n",
       "62   800094067  Alvaro Arley Leon Florez  01/18/2023 12:00:00 AM   \n",
       "77   899999034          Luis  Prada Paez  11/14/2023 12:00:00 AM   \n",
       "\n",
       "               Proveedor   Estado  Solicitud  \\\n",
       "12            Sodexo SAS  Emitida   180058.0   \n",
       "19              OFIX SAS  Emitida   186205.0   \n",
       "20              OFIX SAS  Emitida   186205.0   \n",
       "62            Sodexo SAS  Emitida   164478.0   \n",
       "77  CENCOSUD COLOMBIA SA  Cerrada   200660.0   \n",
       "\n",
       "                                                Items       Total  \\\n",
       "12                             Combustible Categora C  70000000.0   \n",
       "19       mpg01PA1125 PAPELERA 125 PAPEL BOND mpg01IVA   1638340.0   \n",
       "20       mpg01PA1125 PAPELERA 125 PAPEL BOND mpg01IVA   1638340.0   \n",
       "62                             Combustible Categora D         1.0   \n",
       "77  GSF01KIT TALADRO PERCUTOR 12 PUL  ACCES BLACK ...   4997650.0   \n",
       "\n",
       "                     Ciudad Entidad Obigada EsPostconflicto NIT proveedor  \\\n",
       "12  TULUÁ - VALLE DEL CAUCA     No obligada     No Definido     800219876   \n",
       "19                    YOPAL             NaN     No Definido    9001568261   \n",
       "20                    YOPAL             NaN     No Definido    9001568261   \n",
       "62           Puerto Carreño     No obligada     No Definido     800219876   \n",
       "77                 girardot        Obligada     No Definido     900155107   \n",
       "\n",
       "   Actividad Economica Proveedor  \n",
       "12                          8299  \n",
       "19                          4690  \n",
       "20                          4690  \n",
       "62                          8299  \n",
       "77                          4711  "
      ]
     },
     "execution_count": 24,
     "metadata": {},
     "output_type": "execute_result"
    }
   ],
   "source": [
    "tvec_filtrado.head()"
   ]
  },
  {
   "cell_type": "code",
   "execution_count": 26,
   "metadata": {},
   "outputs": [
    {
     "data": {
      "text/plain": [
       "(23374, 20)"
      ]
     },
     "execution_count": 26,
     "metadata": {},
     "output_type": "execute_result"
    }
   ],
   "source": [
    "tvec_filtrado = tvec_filtrado[tvec_filtrado['Agregacion'].isin(['Servicio de Almacenamiento Ensamble y Distribucin de Refrigerios Escolares IV',\n",
    "'Servicio de Recepcin Almacenamiento Ensamble y Distribucin de Refrigerios Escolares III',\n",
    "'Dotacin Escolar II', 'Material Pedaggico', 'Suministro de alimentos PAE III', 'Suministro de alimentos PAE IV',\n",
    "'Suministro de Alimentos PAE III'])]\n",
    "tvec_filtrado.shape"
   ]
  },
  {
   "cell_type": "code",
   "execution_count": 29,
   "metadata": {},
   "outputs": [],
   "source": [
    "tvec_filtrado.to_excel('../../muestras de datos/plata/educacion_tvec.xlsx', index=False)"
   ]
  },
  {
   "cell_type": "code",
   "execution_count": null,
   "metadata": {},
   "outputs": [],
   "source": []
  }
 ],
 "metadata": {
  "kernelspec": {
   "display_name": "Python 3",
   "language": "python",
   "name": "python3"
  },
  "language_info": {
   "codemirror_mode": {
    "name": "ipython",
    "version": 3
   },
   "file_extension": ".py",
   "mimetype": "text/x-python",
   "name": "python",
   "nbconvert_exporter": "python",
   "pygments_lexer": "ipython3",
   "version": "3.11.6"
  }
 },
 "nbformat": 4,
 "nbformat_minor": 2
}
